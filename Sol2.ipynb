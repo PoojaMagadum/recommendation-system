{
 "cells": [
  {
   "cell_type": "code",
   "execution_count": 1,
   "metadata": {},
   "outputs": [],
   "source": [
    "# Importing Required library\n",
    "import numpy as np\n",
    "import pandas as pd\n",
    "import matplotlib.pyplot as plt\n",
    "import seaborn as sns\n",
    "\n",
    "# for intractivity\n",
    "from ipywidgets import interact"
   ]
  },
  {
   "cell_type": "code",
   "execution_count": 2,
   "metadata": {},
   "outputs": [
    {
     "data": {
      "text/html": [
       "<div>\n",
       "<style scoped>\n",
       "    .dataframe tbody tr th:only-of-type {\n",
       "        vertical-align: middle;\n",
       "    }\n",
       "\n",
       "    .dataframe tbody tr th {\n",
       "        vertical-align: top;\n",
       "    }\n",
       "\n",
       "    .dataframe thead th {\n",
       "        text-align: right;\n",
       "    }\n",
       "</style>\n",
       "<table border=\"1\" class=\"dataframe\">\n",
       "  <thead>\n",
       "    <tr style=\"text-align: right;\">\n",
       "      <th></th>\n",
       "      <th>Unnamed: 0</th>\n",
       "      <th>Product</th>\n",
       "      <th>Business Object</th>\n",
       "      <th>Issue</th>\n",
       "      <th>Solution</th>\n",
       "    </tr>\n",
       "  </thead>\n",
       "  <tbody>\n",
       "    <tr>\n",
       "      <th>0</th>\n",
       "      <td>0</td>\n",
       "      <td>C4C</td>\n",
       "      <td>SalesQuote</td>\n",
       "      <td>Preview</td>\n",
       "      <td>2367769 - You are Unable to Preview  The ERP S...</td>\n",
       "    </tr>\n",
       "    <tr>\n",
       "      <th>1</th>\n",
       "      <td>1</td>\n",
       "      <td>C4C</td>\n",
       "      <td>SalesQuote</td>\n",
       "      <td>Price</td>\n",
       "      <td>2940435 - Product Price Missing From Sales Quo...</td>\n",
       "    </tr>\n",
       "    <tr>\n",
       "      <th>2</th>\n",
       "      <td>2</td>\n",
       "      <td>C4C</td>\n",
       "      <td>SalesQuote</td>\n",
       "      <td>Copy</td>\n",
       "      <td>3141807 - Sales Quote Copy BTD References     ...</td>\n",
       "    </tr>\n",
       "    <tr>\n",
       "      <th>3</th>\n",
       "      <td>3</td>\n",
       "      <td>C4C</td>\n",
       "      <td>SalesQuote</td>\n",
       "      <td>Approval</td>\n",
       "      <td>2578553 - Sales Quote Approval Status Changes ...</td>\n",
       "    </tr>\n",
       "    <tr>\n",
       "      <th>4</th>\n",
       "      <td>4</td>\n",
       "      <td>C4C</td>\n",
       "      <td>SalesQuote</td>\n",
       "      <td>Delete</td>\n",
       "      <td>2945512 - CPQ Sales Quote To Be Deleted From C...</td>\n",
       "    </tr>\n",
       "  </tbody>\n",
       "</table>\n",
       "</div>"
      ],
      "text/plain": [
       "   Unnamed: 0 Product Business Object      Issue  \\\n",
       "0           0     C4C      SalesQuote    Preview   \n",
       "1           1     C4C      SalesQuote      Price   \n",
       "2           2     C4C      SalesQuote       Copy   \n",
       "3           3     C4C      SalesQuote  Approval    \n",
       "4           4     C4C      SalesQuote     Delete   \n",
       "\n",
       "                                            Solution  \n",
       "0  2367769 - You are Unable to Preview  The ERP S...  \n",
       "1  2940435 - Product Price Missing From Sales Quo...  \n",
       "2  3141807 - Sales Quote Copy BTD References     ...  \n",
       "3  2578553 - Sales Quote Approval Status Changes ...  \n",
       "4  2945512 - CPQ Sales Quote To Be Deleted From C...  "
      ]
     },
     "execution_count": 2,
     "metadata": {},
     "output_type": "execute_result"
    }
   ],
   "source": [
    "# Loading dataset\n",
    "df = pd.read_csv(\"kba.csv\")\n",
    "df.head()"
   ]
  },
  {
   "cell_type": "code",
   "execution_count": 3,
   "metadata": {},
   "outputs": [],
   "source": [
    "df=df[['Product','Business Object','Issue','Solution']]"
   ]
  },
  {
   "cell_type": "code",
   "execution_count": 4,
   "metadata": {},
   "outputs": [],
   "source": [
    "df['Business Object'].replace(\"Sales Quote \",\"SalesQuote\",inplace=True)\n",
    "df['Business Object'].replace(\"Sales Order \",\"SalesOrder\",inplace=True)\n",
    "df['Business Object'].replace(\"Data Workbench \",\"DataWorkbench\",inplace=True)\n",
    "df['Business Object'].replace(\"Data workbench\",\"DataWorkbench\",inplace=True)"
   ]
  },
  {
   "cell_type": "code",
   "execution_count": 5,
   "metadata": {},
   "outputs": [
    {
     "data": {
      "text/plain": [
       "array(['SalesQuote', 'SalesOrder', 'Account ', 'Visits', 'Visits ',\n",
       "       'Campaign ', 'Tickets', 'Tickets ', 'opportunity ', 'Appointments',\n",
       "       'DataWorkbench'], dtype=object)"
      ]
     },
     "execution_count": 5,
     "metadata": {},
     "output_type": "execute_result"
    }
   ],
   "source": [
    "df['Business Object'].unique()"
   ]
  },
  {
   "cell_type": "code",
   "execution_count": 6,
   "metadata": {},
   "outputs": [],
   "source": [
    "df.to_csv(\"kba.csv\")"
   ]
  },
  {
   "cell_type": "code",
   "execution_count": null,
   "metadata": {},
   "outputs": [],
   "source": []
  },
  {
   "cell_type": "code",
   "execution_count": null,
   "metadata": {},
   "outputs": [],
   "source": []
  },
  {
   "cell_type": "code",
   "execution_count": 16,
   "metadata": {},
   "outputs": [
    {
     "data": {
      "text/html": [
       "<div>\n",
       "<style scoped>\n",
       "    .dataframe tbody tr th:only-of-type {\n",
       "        vertical-align: middle;\n",
       "    }\n",
       "\n",
       "    .dataframe tbody tr th {\n",
       "        vertical-align: top;\n",
       "    }\n",
       "\n",
       "    .dataframe thead th {\n",
       "        text-align: right;\n",
       "    }\n",
       "</style>\n",
       "<table border=\"1\" class=\"dataframe\">\n",
       "  <thead>\n",
       "    <tr style=\"text-align: right;\">\n",
       "      <th></th>\n",
       "      <th>Product</th>\n",
       "      <th>Business Object</th>\n",
       "      <th>Issue</th>\n",
       "      <th>Solution</th>\n",
       "    </tr>\n",
       "  </thead>\n",
       "  <tbody>\n",
       "    <tr>\n",
       "      <th>0</th>\n",
       "      <td>C4C</td>\n",
       "      <td>SalesQuote</td>\n",
       "      <td>Preview</td>\n",
       "      <td>2367769 - You are Unable to Preview  The ERP S...</td>\n",
       "    </tr>\n",
       "    <tr>\n",
       "      <th>1</th>\n",
       "      <td>C4C</td>\n",
       "      <td>SalesQuote</td>\n",
       "      <td>Price</td>\n",
       "      <td>2940435 - Product Price Missing From Sales Quo...</td>\n",
       "    </tr>\n",
       "    <tr>\n",
       "      <th>2</th>\n",
       "      <td>C4C</td>\n",
       "      <td>SalesQuote</td>\n",
       "      <td>Copy</td>\n",
       "      <td>3141807 - Sales Quote Copy BTD References     ...</td>\n",
       "    </tr>\n",
       "    <tr>\n",
       "      <th>3</th>\n",
       "      <td>C4C</td>\n",
       "      <td>SalesQuote</td>\n",
       "      <td>Approval</td>\n",
       "      <td>2578553 - Sales Quote Approval Status Changes ...</td>\n",
       "    </tr>\n",
       "    <tr>\n",
       "      <th>4</th>\n",
       "      <td>C4C</td>\n",
       "      <td>SalesQuote</td>\n",
       "      <td>Delete</td>\n",
       "      <td>2945512 - CPQ Sales Quote To Be Deleted From C...</td>\n",
       "    </tr>\n",
       "    <tr>\n",
       "      <th>5</th>\n",
       "      <td>C4C</td>\n",
       "      <td>SalesQuote</td>\n",
       "      <td>XML payload</td>\n",
       "      <td>2945585 - How to Obtain XML Payload For Sales ...</td>\n",
       "    </tr>\n",
       "    <tr>\n",
       "      <th>6</th>\n",
       "      <td>C4C</td>\n",
       "      <td>SalesQuote</td>\n",
       "      <td>Action</td>\n",
       "      <td>2629811 - Action Submit is Disabled For Sales ...</td>\n",
       "    </tr>\n",
       "    <tr>\n",
       "      <th>7</th>\n",
       "      <td>C4C</td>\n",
       "      <td>SalesQuote</td>\n",
       "      <td>Reapproval</td>\n",
       "      <td>2717556 - Sales Quote Not Submitted For Reappr...</td>\n",
       "    </tr>\n",
       "    <tr>\n",
       "      <th>8</th>\n",
       "      <td>C4C</td>\n",
       "      <td>SalesOrder</td>\n",
       "      <td>Offline</td>\n",
       "      <td>3312264 - Seller Not Determined For Sales Orde...</td>\n",
       "    </tr>\n",
       "    <tr>\n",
       "      <th>9</th>\n",
       "      <td>C4C</td>\n",
       "      <td>SalesOrder</td>\n",
       "      <td>Pricing</td>\n",
       "      <td>2608922 - Credit Status Issue with External Pr...</td>\n",
       "    </tr>\n",
       "    <tr>\n",
       "      <th>10</th>\n",
       "      <td>C4C</td>\n",
       "      <td>SalesOrder</td>\n",
       "      <td>Replication</td>\n",
       "      <td>2636813 - Error: 'Creating Data Not Possible C...</td>\n",
       "    </tr>\n",
       "    <tr>\n",
       "      <th>11</th>\n",
       "      <td>C4C</td>\n",
       "      <td>Account</td>\n",
       "      <td>Replication</td>\n",
       "      <td>3155611 - Account Hierarchy Replication from E...</td>\n",
       "    </tr>\n",
       "    <tr>\n",
       "      <th>12</th>\n",
       "      <td>C4C</td>\n",
       "      <td>Account</td>\n",
       "      <td>Summary</td>\n",
       "      <td>2679931 - Not All Contacts Are Included in The...</td>\n",
       "    </tr>\n",
       "    <tr>\n",
       "      <th>13</th>\n",
       "      <td>C4C</td>\n",
       "      <td>Account</td>\n",
       "      <td>Owner field</td>\n",
       "      <td>2615607 - Account Owner/Team Member Removed Af...</td>\n",
       "    </tr>\n",
       "    <tr>\n",
       "      <th>14</th>\n",
       "      <td>C4C</td>\n",
       "      <td>Visits</td>\n",
       "      <td>Perfect store</td>\n",
       "      <td>2984125 - How To Get the Visit Score And Surve...</td>\n",
       "    </tr>\n",
       "    <tr>\n",
       "      <th>15</th>\n",
       "      <td>C4C</td>\n",
       "      <td>Visits</td>\n",
       "      <td>Outlook</td>\n",
       "      <td>2439672 - Visits syncrhonized from Outlook not...</td>\n",
       "    </tr>\n",
       "    <tr>\n",
       "      <th>16</th>\n",
       "      <td>C4C</td>\n",
       "      <td>Visits</td>\n",
       "      <td>Location Field</td>\n",
       "      <td>2826076 - \"Location name\" in Visit For Outlook...</td>\n",
       "    </tr>\n",
       "    <tr>\n",
       "      <th>17</th>\n",
       "      <td>C4C</td>\n",
       "      <td>Visits</td>\n",
       "      <td>Map</td>\n",
       "      <td>2679598 - Visit Cannot Be Located On Visit Map...</td>\n",
       "    </tr>\n",
       "    <tr>\n",
       "      <th>18</th>\n",
       "      <td>C4C</td>\n",
       "      <td>Account</td>\n",
       "      <td>Dynamic visit planning</td>\n",
       "      <td>3284169 - How to check Account number in Dynam...</td>\n",
       "    </tr>\n",
       "    <tr>\n",
       "      <th>19</th>\n",
       "      <td>C4C</td>\n",
       "      <td>Campaign</td>\n",
       "      <td>Email</td>\n",
       "      <td>2955633 - Reply E-Mails are not received in C4...</td>\n",
       "    </tr>\n",
       "    <tr>\n",
       "      <th>20</th>\n",
       "      <td>C4C</td>\n",
       "      <td>Campaign</td>\n",
       "      <td>status</td>\n",
       "      <td>2593132 - Migrated Sales Campaigns in Status A...</td>\n",
       "    </tr>\n",
       "    <tr>\n",
       "      <th>21</th>\n",
       "      <td>C4C</td>\n",
       "      <td>Campaign</td>\n",
       "      <td>Response option</td>\n",
       "      <td>2955633 - Reply E-Mails are not received in C...</td>\n",
       "    </tr>\n",
       "    <tr>\n",
       "      <th>22</th>\n",
       "      <td>C4C</td>\n",
       "      <td>Campaign</td>\n",
       "      <td>Bounced Email</td>\n",
       "      <td>2744144 - The Bounce Email Section is Not Avai...</td>\n",
       "    </tr>\n",
       "    <tr>\n",
       "      <th>23</th>\n",
       "      <td>C4C</td>\n",
       "      <td>Campaign</td>\n",
       "      <td>Attachments</td>\n",
       "      <td>2879285 - Attachments in Campaigns are not ava...</td>\n",
       "    </tr>\n",
       "    <tr>\n",
       "      <th>24</th>\n",
       "      <td>C4C</td>\n",
       "      <td>Tickets</td>\n",
       "      <td>Messages</td>\n",
       "      <td>2681839 - Confirmation Message is Not Sent to ...</td>\n",
       "    </tr>\n",
       "    <tr>\n",
       "      <th>25</th>\n",
       "      <td>C4C</td>\n",
       "      <td>Tickets</td>\n",
       "      <td>Reply</td>\n",
       "      <td>2859595 - Ticket Outlook Reply is Not Displaye...</td>\n",
       "    </tr>\n",
       "    <tr>\n",
       "      <th>26</th>\n",
       "      <td>C4C</td>\n",
       "      <td>Tickets</td>\n",
       "      <td>Email</td>\n",
       "      <td>3092535 - TO E-mail Address is Not Displayed u...</td>\n",
       "    </tr>\n",
       "    <tr>\n",
       "      <th>27</th>\n",
       "      <td>C4C</td>\n",
       "      <td>Tickets</td>\n",
       "      <td>Attachments</td>\n",
       "      <td>3203759 - How to Create Survey Signature Attac...</td>\n",
       "    </tr>\n",
       "    <tr>\n",
       "      <th>28</th>\n",
       "      <td>C4C</td>\n",
       "      <td>Tickets</td>\n",
       "      <td>Delete</td>\n",
       "      <td>3157425 - Removing/Deleting Tickets from Cloud...</td>\n",
       "    </tr>\n",
       "    <tr>\n",
       "      <th>29</th>\n",
       "      <td>C4C</td>\n",
       "      <td>opportunity</td>\n",
       "      <td>Feed facet</td>\n",
       "      <td>2778432 - Feed Cannot  Be Posted From Feed Fac...</td>\n",
       "    </tr>\n",
       "    <tr>\n",
       "      <th>30</th>\n",
       "      <td>C4C</td>\n",
       "      <td>opportunity</td>\n",
       "      <td>Replication</td>\n",
       "      <td>2678148 - Opportunity Attributes Replicated to...</td>\n",
       "    </tr>\n",
       "    <tr>\n",
       "      <th>31</th>\n",
       "      <td>C4C</td>\n",
       "      <td>opportunity</td>\n",
       "      <td>Sales phase</td>\n",
       "      <td>3080707 - Cannot Change Sales Phase Field in a...</td>\n",
       "    </tr>\n",
       "    <tr>\n",
       "      <th>32</th>\n",
       "      <td>C4C</td>\n",
       "      <td>opportunity</td>\n",
       "      <td>outlook</td>\n",
       "      <td>2651639 - Add Email to Opportunity and Lead ar...</td>\n",
       "    </tr>\n",
       "    <tr>\n",
       "      <th>33</th>\n",
       "      <td>C4C</td>\n",
       "      <td>opportunity</td>\n",
       "      <td>Status</td>\n",
       "      <td>2700137 - Custom Opportunity Status Not Changi...</td>\n",
       "    </tr>\n",
       "    <tr>\n",
       "      <th>34</th>\n",
       "      <td>C4C</td>\n",
       "      <td>Appointments</td>\n",
       "      <td>outlook</td>\n",
       "      <td>3317821 - Appointments do not sync for Owners ...</td>\n",
       "    </tr>\n",
       "    <tr>\n",
       "      <th>35</th>\n",
       "      <td>C4C</td>\n",
       "      <td>Appointments</td>\n",
       "      <td>Calendar</td>\n",
       "      <td>2685505 - How To Restrict Movement Of An Appoi...</td>\n",
       "    </tr>\n",
       "    <tr>\n",
       "      <th>36</th>\n",
       "      <td>C4C</td>\n",
       "      <td>Appointments</td>\n",
       "      <td>Document type</td>\n",
       "      <td>2742132 - Not Possible To Create Mass Activity...</td>\n",
       "    </tr>\n",
       "    <tr>\n",
       "      <th>37</th>\n",
       "      <td>C4C</td>\n",
       "      <td>DataWorkbench</td>\n",
       "      <td>export issue</td>\n",
       "      <td>2453500 - How to Export Notes Using Data Workb...</td>\n",
       "    </tr>\n",
       "    <tr>\n",
       "      <th>38</th>\n",
       "      <td>C4C</td>\n",
       "      <td>DataWorkbench</td>\n",
       "      <td>Import issue</td>\n",
       "      <td>3151987 - Error Fetching Data When Specific Us...</td>\n",
       "    </tr>\n",
       "    <tr>\n",
       "      <th>39</th>\n",
       "      <td>C4C</td>\n",
       "      <td>DataWorkbench</td>\n",
       "      <td>Mass upload</td>\n",
       "      <td>2204393 - Common Issues With CSV Files in Data...</td>\n",
       "    </tr>\n",
       "  </tbody>\n",
       "</table>\n",
       "</div>"
      ],
      "text/plain": [
       "   Product Business Object                   Issue  \\\n",
       "0      C4C      SalesQuote                 Preview   \n",
       "1      C4C      SalesQuote                   Price   \n",
       "2      C4C      SalesQuote                    Copy   \n",
       "3      C4C      SalesQuote               Approval    \n",
       "4      C4C      SalesQuote                  Delete   \n",
       "5      C4C      SalesQuote            XML payload    \n",
       "6      C4C      SalesQuote                 Action    \n",
       "7      C4C      SalesQuote             Reapproval    \n",
       "8      C4C      SalesOrder                Offline    \n",
       "9      C4C      SalesOrder                Pricing    \n",
       "10     C4C      SalesOrder             Replication   \n",
       "11     C4C        Account             Replication    \n",
       "12     C4C        Account                 Summary    \n",
       "13     C4C        Account             Owner field    \n",
       "14     C4C          Visits           Perfect store   \n",
       "15     C4C          Visits                 Outlook   \n",
       "16     C4C          Visits          Location Field   \n",
       "17     C4C         Visits                      Map   \n",
       "18     C4C        Account   Dynamic visit planning   \n",
       "19     C4C       Campaign                   Email    \n",
       "20     C4C       Campaign                  status    \n",
       "21     C4C       Campaign         Response option    \n",
       "22     C4C       Campaign            Bounced Email   \n",
       "23     C4C       Campaign             Attachments    \n",
       "24     C4C         Tickets                Messages   \n",
       "25     C4C        Tickets                    Reply   \n",
       "26     C4C        Tickets                   Email    \n",
       "27     C4C        Tickets             Attachments    \n",
       "28     C4C        Tickets                   Delete   \n",
       "29     C4C    opportunity               Feed facet   \n",
       "30     C4C    opportunity             Replication    \n",
       "31     C4C    opportunity             Sales phase    \n",
       "32     C4C    opportunity                 outlook    \n",
       "33     C4C    opportunity                  Status    \n",
       "34     C4C    Appointments                 outlook   \n",
       "35     C4C    Appointments               Calendar    \n",
       "36     C4C    Appointments          Document type    \n",
       "37     C4C   DataWorkbench            export issue   \n",
       "38     C4C   DataWorkbench            Import issue   \n",
       "39     C4C   DataWorkbench            Mass upload    \n",
       "\n",
       "                                             Solution  \n",
       "0   2367769 - You are Unable to Preview  The ERP S...  \n",
       "1   2940435 - Product Price Missing From Sales Quo...  \n",
       "2   3141807 - Sales Quote Copy BTD References     ...  \n",
       "3   2578553 - Sales Quote Approval Status Changes ...  \n",
       "4   2945512 - CPQ Sales Quote To Be Deleted From C...  \n",
       "5   2945585 - How to Obtain XML Payload For Sales ...  \n",
       "6   2629811 - Action Submit is Disabled For Sales ...  \n",
       "7   2717556 - Sales Quote Not Submitted For Reappr...  \n",
       "8   3312264 - Seller Not Determined For Sales Orde...  \n",
       "9   2608922 - Credit Status Issue with External Pr...  \n",
       "10  2636813 - Error: 'Creating Data Not Possible C...  \n",
       "11  3155611 - Account Hierarchy Replication from E...  \n",
       "12  2679931 - Not All Contacts Are Included in The...  \n",
       "13  2615607 - Account Owner/Team Member Removed Af...  \n",
       "14  2984125 - How To Get the Visit Score And Surve...  \n",
       "15  2439672 - Visits syncrhonized from Outlook not...  \n",
       "16  2826076 - \"Location name\" in Visit For Outlook...  \n",
       "17  2679598 - Visit Cannot Be Located On Visit Map...  \n",
       "18  3284169 - How to check Account number in Dynam...  \n",
       "19  2955633 - Reply E-Mails are not received in C4...  \n",
       "20  2593132 - Migrated Sales Campaigns in Status A...  \n",
       "21   2955633 - Reply E-Mails are not received in C...  \n",
       "22  2744144 - The Bounce Email Section is Not Avai...  \n",
       "23  2879285 - Attachments in Campaigns are not ava...  \n",
       "24  2681839 - Confirmation Message is Not Sent to ...  \n",
       "25  2859595 - Ticket Outlook Reply is Not Displaye...  \n",
       "26  3092535 - TO E-mail Address is Not Displayed u...  \n",
       "27  3203759 - How to Create Survey Signature Attac...  \n",
       "28  3157425 - Removing/Deleting Tickets from Cloud...  \n",
       "29  2778432 - Feed Cannot  Be Posted From Feed Fac...  \n",
       "30  2678148 - Opportunity Attributes Replicated to...  \n",
       "31  3080707 - Cannot Change Sales Phase Field in a...  \n",
       "32  2651639 - Add Email to Opportunity and Lead ar...  \n",
       "33  2700137 - Custom Opportunity Status Not Changi...  \n",
       "34  3317821 - Appointments do not sync for Owners ...  \n",
       "35  2685505 - How To Restrict Movement Of An Appoi...  \n",
       "36  2742132 - Not Possible To Create Mass Activity...  \n",
       "37  2453500 - How to Export Notes Using Data Workb...  \n",
       "38  3151987 - Error Fetching Data When Specific Us...  \n",
       "39  2204393 - Common Issues With CSV Files in Data...  "
      ]
     },
     "execution_count": 16,
     "metadata": {},
     "output_type": "execute_result"
    }
   ],
   "source": [
    "df.head(40)"
   ]
  },
  {
   "cell_type": "code",
   "execution_count": null,
   "metadata": {},
   "outputs": [],
   "source": []
  },
  {
   "cell_type": "code",
   "execution_count": 7,
   "metadata": {},
   "outputs": [],
   "source": [
    "df['Business Object'].replace(\"Account \",\"Account\",inplace=True)\n",
    "df['Business Object'].replace(\"Campaign \",\"Campaign\",inplace=True)\n",
    "df['Business Object'].replace(\"Tickets \",\"Tickets\",inplace=True)\n",
    "df['Business Object'].replace(\"opportunity \",\"opportunity\",inplace=True)\n"
   ]
  },
  {
   "cell_type": "code",
   "execution_count": 8,
   "metadata": {},
   "outputs": [
    {
     "data": {
      "text/plain": [
       "array(['SalesQuote', 'SalesQuote', 'SalesQuote', 'SalesQuote',\n",
       "       'SalesQuote', 'SalesQuote', 'SalesQuote', 'SalesQuote',\n",
       "       'SalesOrder', 'SalesOrder', 'SalesOrder', 'Account', 'Account',\n",
       "       'Account', 'Visits', 'Visits', 'Visits', 'Visits ', 'Account',\n",
       "       'Campaign', 'Campaign', 'Campaign', 'Campaign', 'Campaign',\n",
       "       'Tickets', 'Tickets', 'Tickets', 'Tickets', 'Tickets',\n",
       "       'opportunity', 'opportunity', 'opportunity', 'opportunity',\n",
       "       'opportunity', 'Appointments', 'Appointments', 'Appointments',\n",
       "       'DataWorkbench', 'DataWorkbench', 'DataWorkbench'], dtype=object)"
      ]
     },
     "execution_count": 8,
     "metadata": {},
     "output_type": "execute_result"
    }
   ],
   "source": [
    "df['Business Object'].values"
   ]
  },
  {
   "cell_type": "code",
   "execution_count": 9,
   "metadata": {},
   "outputs": [
    {
     "data": {
      "text/plain": [
       "array(['Preview', 'Price', 'Copy', 'Approval ', 'Delete', 'XML payload ',\n",
       "       'Action ', 'Reapproval ', 'Offline ', 'Pricing ', 'Replication',\n",
       "       'Replication ', 'Summary ', 'Owner field ', 'Perfect store',\n",
       "       'Outlook', 'Location Field', 'Map', 'Dynamic visit planning',\n",
       "       'Email ', 'status ', 'Response option ', 'Bounced Email',\n",
       "       'Attachments ', 'Messages', 'Reply', 'Email ', 'Attachments ',\n",
       "       'Delete', 'Feed facet', 'Replication ', 'Sales phase ', 'outlook ',\n",
       "       'Status ', 'outlook', 'Calendar ', 'Document type ',\n",
       "       'export issue', 'Import issue', 'Mass upload '], dtype=object)"
      ]
     },
     "execution_count": 9,
     "metadata": {},
     "output_type": "execute_result"
    }
   ],
   "source": [
    "df['Issue'].values"
   ]
  },
  {
   "cell_type": "code",
   "execution_count": 10,
   "metadata": {},
   "outputs": [],
   "source": [
    "df['Issue'].replace('Approval ','Approval',inplace=True)\n",
    "df['Issue'].replace('XML payload ','XML payload',inplace=True)\n",
    "df['Issue'].replace('Action ','Action',inplace=True)\n",
    "df['Issue'].replace('Reapproval ','Reapproval',inplace=True)\n",
    "df['Issue'].replace('Offline ','Offline',inplace=True)\n",
    "df['Issue'].replace('Pricing ','Pricing',inplace=True)\n",
    "df['Issue'].replace('Replication ','Replication',inplace=True)\n",
    "df['Issue'].replace('Summary ','Summary',inplace=True)\n",
    "df['Issue'].replace('Owner field ','Owener field',inplace=True)\n",
    "df['Issue'].replace('status ','Status',inplace=True)\n",
    "df['Issue'].replace('Response option ','Response option',inplace=True)\n",
    "df['Issue'].replace( 'Email ','Email',inplace=True)\n",
    "df['Issue'].replace( 'Attachments ','Attachments',inplace=True)\n",
    "df['Issue'].replace( 'Replication ','Replication',inplace=True)\n",
    "df['Issue'].replace( 'Sales phase ','Sales Phase',inplace=True)\n",
    "df['Issue'].replace( 'outlook ','outlook',inplace=True)\n",
    "df['Issue'].replace('Status ' ,'Status',inplace=True)\n",
    "df['Issue'].replace( 'Calendar ','Calender',inplace=True)\n",
    "df['Issue'].replace( 'Document type ','Document type',inplace=True)\n",
    "df['Issue'].replace( 'Mass upload ','Mass upload',inplace=True)\n",
    "\n"
   ]
  },
  {
   "cell_type": "code",
   "execution_count": 11,
   "metadata": {},
   "outputs": [
    {
     "data": {
      "text/plain": [
       "array(['Preview', 'Price', 'Copy', 'Approval', 'Delete', 'XML payload',\n",
       "       'Action', 'Reapproval', 'Offline', 'Pricing', 'Replication',\n",
       "       'Replication', 'Summary', 'Owener field', 'Perfect store',\n",
       "       'Outlook', 'Location Field', 'Map', 'Dynamic visit planning',\n",
       "       'Email', 'Status', 'Response option', 'Bounced Email',\n",
       "       'Attachments', 'Messages', 'Reply', 'Email', 'Attachments',\n",
       "       'Delete', 'Feed facet', 'Replication', 'Sales Phase', 'outlook',\n",
       "       'Status', 'outlook', 'Calender', 'Document type', 'export issue',\n",
       "       'Import issue', 'Mass upload'], dtype=object)"
      ]
     },
     "execution_count": 11,
     "metadata": {},
     "output_type": "execute_result"
    }
   ],
   "source": [
    "df['Issue'].values"
   ]
  },
  {
   "cell_type": "code",
   "execution_count": 12,
   "metadata": {},
   "outputs": [
    {
     "data": {
      "text/html": [
       "<div>\n",
       "<style scoped>\n",
       "    .dataframe tbody tr th:only-of-type {\n",
       "        vertical-align: middle;\n",
       "    }\n",
       "\n",
       "    .dataframe tbody tr th {\n",
       "        vertical-align: top;\n",
       "    }\n",
       "\n",
       "    .dataframe thead th {\n",
       "        text-align: right;\n",
       "    }\n",
       "</style>\n",
       "<table border=\"1\" class=\"dataframe\">\n",
       "  <thead>\n",
       "    <tr style=\"text-align: right;\">\n",
       "      <th></th>\n",
       "      <th>Product</th>\n",
       "      <th>Business Object</th>\n",
       "      <th>Issue</th>\n",
       "      <th>Solution</th>\n",
       "    </tr>\n",
       "  </thead>\n",
       "  <tbody>\n",
       "    <tr>\n",
       "      <th>count</th>\n",
       "      <td>40</td>\n",
       "      <td>40</td>\n",
       "      <td>40</td>\n",
       "      <td>40</td>\n",
       "    </tr>\n",
       "    <tr>\n",
       "      <th>unique</th>\n",
       "      <td>1</td>\n",
       "      <td>10</td>\n",
       "      <td>33</td>\n",
       "      <td>40</td>\n",
       "    </tr>\n",
       "    <tr>\n",
       "      <th>top</th>\n",
       "      <td>C4C</td>\n",
       "      <td>SalesQuote</td>\n",
       "      <td>Replication</td>\n",
       "      <td>2679598 - Visit Cannot Be Located On Visit Map...</td>\n",
       "    </tr>\n",
       "    <tr>\n",
       "      <th>freq</th>\n",
       "      <td>40</td>\n",
       "      <td>8</td>\n",
       "      <td>3</td>\n",
       "      <td>1</td>\n",
       "    </tr>\n",
       "  </tbody>\n",
       "</table>\n",
       "</div>"
      ],
      "text/plain": [
       "       Product Business Object        Issue  \\\n",
       "count       40              40           40   \n",
       "unique       1              10           33   \n",
       "top        C4C      SalesQuote  Replication   \n",
       "freq        40               8            3   \n",
       "\n",
       "                                                 Solution  \n",
       "count                                                  40  \n",
       "unique                                                 40  \n",
       "top     2679598 - Visit Cannot Be Located On Visit Map...  \n",
       "freq                                                    1  "
      ]
     },
     "execution_count": 12,
     "metadata": {},
     "output_type": "execute_result"
    }
   ],
   "source": [
    "df.describe(include='all')"
   ]
  },
  {
   "cell_type": "code",
   "execution_count": 13,
   "metadata": {},
   "outputs": [
    {
     "data": {
      "text/plain": [
       "0"
      ]
     },
     "execution_count": 13,
     "metadata": {},
     "output_type": "execute_result"
    }
   ],
   "source": [
    "# checking missing values in our dataset\n",
    "df.isnull().sum().sum()"
   ]
  },
  {
   "cell_type": "code",
   "execution_count": 14,
   "metadata": {},
   "outputs": [
    {
     "data": {
      "text/plain": [
       "0"
      ]
     },
     "execution_count": 14,
     "metadata": {},
     "output_type": "execute_result"
    }
   ],
   "source": [
    "# Checking duplicated values in our dataset\n",
    "df.duplicated().sum()"
   ]
  },
  {
   "cell_type": "code",
   "execution_count": 15,
   "metadata": {},
   "outputs": [
    {
     "data": {
      "image/png": "[encoded data removed]",
      "text/plain": [
       "<Figure size 1152x576 with 1 Axes>"
      ]
     },
     "metadata": {
      "needs_background": "light"
     },
     "output_type": "display_data"
    }
   ],
   "source": [
    "#EDA\n",
    "plt.figure(figsize=(16,8))\n",
    "sns.countplot(df['Business Object'])\n",
    "plt.show()"
   ]
  },
  {
   "cell_type": "code",
   "execution_count": 16,
   "metadata": {},
   "outputs": [],
   "source": [
    "X=df[['Product','Business Object','Issue']]\n",
    "y=df['Solution']"
   ]
  },
  {
   "cell_type": "code",
   "execution_count": 17,
   "metadata": {},
   "outputs": [
    {
     "data": {
      "text/plain": [
       "(40,)"
      ]
     },
     "execution_count": 17,
     "metadata": {},
     "output_type": "execute_result"
    }
   ],
   "source": [
    "y.shape"
   ]
  },
  {
   "cell_type": "code",
   "execution_count": 18,
   "metadata": {},
   "outputs": [
    {
     "data": {
      "text/plain": [
       "(40, 3)"
      ]
     },
     "execution_count": 18,
     "metadata": {},
     "output_type": "execute_result"
    }
   ],
   "source": [
    "X.shape"
   ]
  },
  {
   "cell_type": "code",
   "execution_count": 19,
   "metadata": {},
   "outputs": [],
   "source": [
    "from sklearn.model_selection import train_test_split\n",
    "X_train,X_test,y_train,y_test=train_test_split(X,y,test_size=0.2)"
   ]
  },
  {
   "cell_type": "code",
   "execution_count": 20,
   "metadata": {},
   "outputs": [],
   "source": [
    "from sklearn.linear_model import LogisticRegression"
   ]
  },
  {
   "cell_type": "code",
   "execution_count": 21,
   "metadata": {},
   "outputs": [],
   "source": [
    "from sklearn.preprocessing import OneHotEncoder\n",
    "from sklearn.compose import make_column_transformer\n",
    "from sklearn.pipeline import make_pipeline"
   ]
  },
  {
   "cell_type": "code",
   "execution_count": 22,
   "metadata": {},
   "outputs": [
    {
     "data": {
      "text/plain": [
       "OneHotEncoder()"
      ]
     },
     "execution_count": 22,
     "metadata": {},
     "output_type": "execute_result"
    }
   ],
   "source": [
    "# creating onehot encoder\n",
    "ohe=OneHotEncoder()\n",
    "ohe.fit(X[['Product','Business Object','Issue']])"
   ]
  },
  {
   "cell_type": "code",
   "execution_count": 23,
   "metadata": {},
   "outputs": [],
   "source": [
    "column_trans=make_column_transformer((OneHotEncoder(categories=ohe.categories_),['Product','Business Object','Issue']),\n",
    "                                    remainder='passthrough')"
   ]
  },
  {
   "cell_type": "code",
   "execution_count": 24,
   "metadata": {},
   "outputs": [],
   "source": [
    "# Linear regression model\n",
    "lr= LogisticRegression()"
   ]
  },
  {
   "cell_type": "code",
   "execution_count": 25,
   "metadata": {},
   "outputs": [],
   "source": [
    "pipe=make_pipeline(column_trans,lr)"
   ]
  },
  {
   "cell_type": "code",
   "execution_count": 26,
   "metadata": {},
   "outputs": [
    {
     "data": {
      "text/plain": [
       "Pipeline(steps=[('columntransformer',\n",
       "                 ColumnTransformer(remainder='passthrough',\n",
       "                                   transformers=[('onehotencoder',\n",
       "                                                  OneHotEncoder(categories=[array(['C4C'], dtype=object),\n",
       "                                                                            array(['Account', 'Appointments', 'Campaign', 'DataWorkbench',\n",
       "       'SalesOrder', 'SalesQuote', 'Tickets', 'Visits', 'Visits ',\n",
       "       'opportunity'], dtype=object),\n",
       "                                                                            array(['Action', 'Approval', 'Attachments', 'Bo...\n",
       "       'Email', 'Feed facet', 'Import issue', 'Location Field', 'Map',\n",
       "       'Mass upload', 'Messages', 'Offline', 'Outlook', 'Owener field',\n",
       "       'Perfect store', 'Preview', 'Price', 'Pricing', 'Reapproval',\n",
       "       'Replication', 'Reply', 'Response option', 'Sales Phase', 'Status',\n",
       "       'Summary', 'XML payload', 'export issue', 'outlook'], dtype=object)]),\n",
       "                                                  ['Product', 'Business Object',\n",
       "                                                   'Issue'])])),\n",
       "                ('logisticregression', LogisticRegression())])"
      ]
     },
     "execution_count": 26,
     "metadata": {},
     "output_type": "execute_result"
    }
   ],
   "source": [
    "# fitting the model\n",
    "pipe.fit(X_train,y_train)"
   ]
  },
  {
   "cell_type": "code",
   "execution_count": 27,
   "metadata": {},
   "outputs": [],
   "source": [
    "y_pred=pipe.predict(X_test)"
   ]
  },
  {
   "cell_type": "code",
   "execution_count": 28,
   "metadata": {},
   "outputs": [
    {
     "data": {
      "text/plain": [
       "array(['3312264 - Seller Not Determined For Sales Order In Offline Mode        3096406 - Sales Order is Not Editable in Offline Mode      3096406 - Sales Order is Not Editable in Offline Mode      2658476 - Set as Complete action is not available for Sales Order in offline mode'],\n",
       "      dtype=object)"
      ]
     },
     "execution_count": 28,
     "metadata": {},
     "output_type": "execute_result"
    }
   ],
   "source": [
    "pipe.predict(pd.DataFrame(columns=X_test.columns,data=np.array(['C4C','SalesOrder','Price']).reshape(1,3)))"
   ]
  },
  {
   "cell_type": "code",
   "execution_count": 29,
   "metadata": {},
   "outputs": [],
   "source": [
    "import pickle"
   ]
  },
  {
   "cell_type": "code",
   "execution_count": 91,
   "metadata": {},
   "outputs": [],
   "source": [
    "pickle.dump(pipe,open('log_r.pkl','wb'))"
   ]
  },
  {
   "cell_type": "code",
   "execution_count": 30,
   "metadata": {},
   "outputs": [],
   "source": [
    "pred=pipe.predict(pd.DataFrame([['C4C','Account','Offline']],\n",
    "                         columns=['Product','Business Object','Issue']))"
   ]
  },
  {
   "cell_type": "code",
   "execution_count": 31,
   "metadata": {},
   "outputs": [
    {
     "data": {
      "text/plain": [
       "array(['3312264 - Seller Not Determined For Sales Order In Offline Mode        3096406 - Sales Order is Not Editable in Offline Mode      3096406 - Sales Order is Not Editable in Offline Mode      2658476 - Set as Complete action is not available for Sales Order in offline mode'],\n",
       "      dtype=object)"
      ]
     },
     "execution_count": 31,
     "metadata": {},
     "output_type": "execute_result"
    }
   ],
   "source": [
    "pred"
   ]
  },
  {
   "cell_type": "code",
   "execution_count": null,
   "metadata": {},
   "outputs": [],
   "source": []
  },
  {
   "cell_type": "code",
   "execution_count": null,
   "metadata": {},
   "outputs": [],
   "source": []
  },
  {
   "cell_type": "code",
   "execution_count": 42,
   "metadata": {},
   "outputs": [],
   "source": []
  },
  {
   "cell_type": "code",
   "execution_count": null,
   "metadata": {},
   "outputs": [],
   "source": []
  },
  {
   "cell_type": "code",
   "execution_count": null,
   "metadata": {},
   "outputs": [],
   "source": []
  },
  {
   "cell_type": "code",
   "execution_count": null,
   "metadata": {},
   "outputs": [],
   "source": []
  }
 ],
 "metadata": {
  "kernelspec": {
   "display_name": "Python 3",
   "language": "python",
   "name": "python3"
  },
  "language_info": {
   "codemirror_mode": {
    "name": "ipython",
    "version": 3
   },
   "file_extension": ".py",
   "mimetype": "text/x-python",
   "name": "python",
   "nbconvert_exporter": "python",
   "pygments_lexer": "ipython3",
   "version": "3.8.3"
  }
 },
 "nbformat": 4,
 "nbformat_minor": 4
}
